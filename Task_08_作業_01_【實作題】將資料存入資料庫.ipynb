{
  "nbformat": 4,
  "nbformat_minor": 0,
  "metadata": {
    "colab": {
      "provenance": [],
      "authorship_tag": "ABX9TyO/JSScTRrXh5lJ8c2LGI0U",
      "include_colab_link": true
    },
    "kernelspec": {
      "name": "python3",
      "display_name": "Python 3"
    },
    "language_info": {
      "name": "python"
    }
  },
  "cells": [
    {
      "cell_type": "markdown",
      "metadata": {
        "id": "view-in-github",
        "colab_type": "text"
      },
      "source": [
        "<a href=\"https://colab.research.google.com/github/lattekila/hello-colab/blob/main/Task_08_%E4%BD%9C%E6%A5%AD_01_%E3%80%90%E5%AF%A6%E4%BD%9C%E9%A1%8C%E3%80%91%E5%B0%87%E8%B3%87%E6%96%99%E5%AD%98%E5%85%A5%E8%B3%87%E6%96%99%E5%BA%AB.ipynb\" target=\"_parent\"><img src=\"https://colab.research.google.com/assets/colab-badge.svg\" alt=\"Open In Colab\"/></a>"
      ]
    },
    {
      "cell_type": "code",
      "execution_count": 1,
      "metadata": {
        "colab": {
          "base_uri": "https://localhost:8080/"
        },
        "id": "nS_yADVIo7MJ",
        "outputId": "190a3e5c-da08-4c45-a2d0-47e843c3b95d"
      },
      "outputs": [
        {
          "output_type": "stream",
          "name": "stdout",
          "text": [
            "INSERT INTO phqrmacies VALUES ('臺北市', 322490, '2024-05-12 07:59:35.494768')\n",
            "INSERT INTO phqrmacies VALUES ('', 69210, '2024-05-12 07:59:35.522425')\n",
            "INSERT INTO phqrmacies VALUES ('高雄市', 424170, '2024-05-12 07:59:35.529364')\n",
            "INSERT INTO phqrmacies VALUES ('臺中市', 536710, '2024-05-12 07:59:35.539093')\n",
            "INSERT INTO phqrmacies VALUES ('臺南市', 393900, '2024-05-12 07:59:35.550187')\n",
            "INSERT INTO phqrmacies VALUES ('基隆市', 80100, '2024-05-12 07:59:35.561040')\n",
            "INSERT INTO phqrmacies VALUES ('新竹市', 45630, '2024-05-12 07:59:35.571414')\n",
            "INSERT INTO phqrmacies VALUES ('嘉義市', 107840, '2024-05-12 07:59:35.582302')\n",
            "INSERT INTO phqrmacies VALUES ('新北市', 670270, '2024-05-12 07:59:35.595263')\n",
            "INSERT INTO phqrmacies VALUES ('桃園市', 331940, '2024-05-12 07:59:35.605975')\n",
            "INSERT INTO phqrmacies VALUES ('新竹縣', 51350, '2024-05-12 07:59:35.616660')\n",
            "INSERT INTO phqrmacies VALUES ('宜蘭縣', 106900, '2024-05-12 07:59:35.629209')\n",
            "INSERT INTO phqrmacies VALUES ('苗栗縣', 131080, '2024-05-12 07:59:35.639917')\n",
            "INSERT INTO phqrmacies VALUES ('彰化縣', 219400, '2024-05-12 07:59:35.650960')\n",
            "INSERT INTO phqrmacies VALUES ('南投縣', 91240, '2024-05-12 07:59:35.662295')\n",
            "INSERT INTO phqrmacies VALUES ('雲林縣', 196990, '2024-05-12 07:59:35.676172')\n",
            "INSERT INTO phqrmacies VALUES ('嘉義縣', 113180, '2024-05-12 07:59:35.687589')\n",
            "INSERT INTO phqrmacies VALUES ('屏東縣', 184250, '2024-05-12 07:59:35.702022')\n",
            "INSERT INTO phqrmacies VALUES ('澎湖縣', 12600, '2024-05-12 07:59:35.712049')\n",
            "INSERT INTO phqrmacies VALUES ('花蓮縣', 57330, '2024-05-12 07:59:35.718901')\n",
            "INSERT INTO phqrmacies VALUES ('臺東縣', 28510, '2024-05-12 07:59:35.729001')\n",
            "INSERT INTO phqrmacies VALUES ('金門縣', 15510, '2024-05-12 07:59:35.739242')\n",
            "INSERT INTO phqrmacies VALUES ('連江縣', 7930, '2024-05-12 07:59:35.749623')\n",
            "[('臺北市', '322490', '2024-05-12 07:59:35.494768'), ('', '69210', '2024-05-12 07:59:35.522425'), ('高雄市', '424170', '2024-05-12 07:59:35.529364'), ('臺中市', '536710', '2024-05-12 07:59:35.539093'), ('臺南市', '393900', '2024-05-12 07:59:35.550187'), ('基隆市', '80100', '2024-05-12 07:59:35.561040'), ('新竹市', '45630', '2024-05-12 07:59:35.571414'), ('嘉義市', '107840', '2024-05-12 07:59:35.582302'), ('新北市', '670270', '2024-05-12 07:59:35.595263'), ('桃園市', '331940', '2024-05-12 07:59:35.605975'), ('新竹縣', '51350', '2024-05-12 07:59:35.616660'), ('宜蘭縣', '106900', '2024-05-12 07:59:35.629209'), ('苗栗縣', '131080', '2024-05-12 07:59:35.639917'), ('彰化縣', '219400', '2024-05-12 07:59:35.650960'), ('南投縣', '91240', '2024-05-12 07:59:35.662295'), ('雲林縣', '196990', '2024-05-12 07:59:35.676172'), ('嘉義縣', '113180', '2024-05-12 07:59:35.687589'), ('屏東縣', '184250', '2024-05-12 07:59:35.702022'), ('澎湖縣', '12600', '2024-05-12 07:59:35.712049'), ('花蓮縣', '57330', '2024-05-12 07:59:35.718901'), ('臺東縣', '28510', '2024-05-12 07:59:35.729001'), ('金門縣', '15510', '2024-05-12 07:59:35.739242'), ('連江縣', '7930', '2024-05-12 07:59:35.749623')]\n"
          ]
        }
      ],
      "source": [
        "import sqlite3\n",
        "import datetime\n",
        "import requests\n",
        "import json\n",
        "\n",
        "conn = sqlite3.connect('example.db')\n",
        "c = conn.cursor()\n",
        "\n",
        "#新增且清空資料表\n",
        "c.execute('''CREATE TABLE IF NOT EXISTS pharmacies\n",
        "       (city text,counts text,createdAt\n",
        "datetime)''')\n",
        "c.execute('''DELETE FROM pharmacies''')\n",
        "conn.commit()\n",
        "\n",
        "#新增資料\n",
        "url = 'https://raw.githubusercontent.com/kiang/pharmacies/master/json/points.json'\n",
        "response = requests.get(url)\n",
        "d=response.text\n",
        "data = json.loads(d)\n",
        "\n",
        "mask_count = {}\n",
        "\n",
        "#填入欄位名稱\n",
        "\n",
        "for d in data['features']:\n",
        "   county = d['properties']['county']\n",
        "   mask_adult = d['properties']['mask_adult']\n",
        "   if county not in mask_count:\n",
        "     mask_count[county]=mask_adult\n",
        "   else:\n",
        "     mask_count[county]+=mask_adult\n",
        "\n",
        "#將結果從大到小排列\n",
        "med_count = dict(sorted(mask_count.items(),key=lambda item: item[1],reverse=True))\n",
        "\n",
        "for d in mask_count:\n",
        "   city = d\n",
        "   counts = mask_count[d]\n",
        "   t = datetime.datetime.now()\n",
        "   print(f\"INSERT INTO phqrmacies VALUES ('{city}', {counts}, '{t}')\")\n",
        "   c.execute(f\"INSERT INTO pharmacies VALUES ('{city}', {counts}, '{t}')\")\n",
        "   conn.commit()\n",
        "\n",
        "#查詢資料\n",
        "c.execute(\"select * from pharmacies\")\n",
        "print(c.fetchall())\n",
        "\n",
        "conn.commit()\n",
        "conn.close()\n",
        "\n",
        "\n",
        "\n"
      ]
    },
    {
      "cell_type": "code",
      "source": [
        "import sqlite3\n",
        "import datetime\n",
        "import requests\n",
        "import json\n",
        "\n",
        "conn = sqlite3.connect('example.db')\n",
        "c = conn.cursor()\n",
        "#新增且清空資料表\n",
        "c.execute('''CREATE TABLE IF NOT EXISTS masks\n",
        "     (city text, mask_adult text, createAt datatime)\n",
        "     ''')\n",
        "c.execute('''DELETE FROM masks''')\n",
        "conn.commit()\n",
        "\n",
        "#新增資料\n",
        "url = 'https://raw.githubusercontent.com/kiang/pharmacies/master/json/points.json'\n",
        "response = requests.get(url)\n",
        "d = response.text\n",
        "data = json.loads(d)\n",
        "\n",
        "mask_count={}\n",
        "\n",
        "for d in data['features']:\n",
        "   county = d['properties']['county']\n",
        "   mask_adult = d['properties']['mask_adult']\n",
        "   if county not in mask_count:\n",
        "     mask_count[county]=mask_adult\n",
        "   else:\n",
        "     mask_count[county]+=mask_adult\n",
        "\n",
        "#將結果從大到小排列\n",
        "mask_count = dict(sorted(mask_count.items(),key=lambda item: item[1],reverse=True))\n",
        "\n",
        "for d in mask_count:\n",
        "   city = d\n",
        "   count=mask_count[d]\n",
        "   t = datetime.datetime.now()\n",
        "   print(f\"INSERT INTO masks VALUES ('{city}', {count}, '{t}')\")\n",
        "   c.execute(f\"INSERT INTO masks VALUES('{city}',{count},'{t}')\")\n",
        "\n",
        "#查詢資料\n",
        "c.execute(\"select * from masks\")\n",
        "print(c.fetchall())\n",
        "\n",
        "conn.commit()\n",
        "conn.close()\n",
        "\n",
        "\n",
        "\n"
      ],
      "metadata": {
        "id": "eG90McxafWAv",
        "colab": {
          "base_uri": "https://localhost:8080/"
        },
        "outputId": "bf72ea3e-3a32-461a-df40-67dcb4c97905"
      },
      "execution_count": 5,
      "outputs": [
        {
          "output_type": "stream",
          "name": "stdout",
          "text": [
            "INSERT INTO masks VALUES ('新北市', 670270, '2024-05-12 08:21:21.174901')\n",
            "INSERT INTO masks VALUES ('臺中市', 536710, '2024-05-12 08:21:21.182266')\n",
            "INSERT INTO masks VALUES ('高雄市', 424170, '2024-05-12 08:21:21.182832')\n",
            "INSERT INTO masks VALUES ('臺南市', 393900, '2024-05-12 08:21:21.183375')\n",
            "INSERT INTO masks VALUES ('桃園市', 331940, '2024-05-12 08:21:21.183889')\n",
            "INSERT INTO masks VALUES ('臺北市', 322490, '2024-05-12 08:21:21.184393')\n",
            "INSERT INTO masks VALUES ('彰化縣', 219400, '2024-05-12 08:21:21.184896')\n",
            "INSERT INTO masks VALUES ('雲林縣', 196990, '2024-05-12 08:21:21.185407')\n",
            "INSERT INTO masks VALUES ('屏東縣', 184250, '2024-05-12 08:21:21.185892')\n",
            "INSERT INTO masks VALUES ('苗栗縣', 131080, '2024-05-12 08:21:21.186381')\n",
            "INSERT INTO masks VALUES ('嘉義縣', 113180, '2024-05-12 08:21:21.186859')\n",
            "INSERT INTO masks VALUES ('嘉義市', 107840, '2024-05-12 08:21:21.187354')\n",
            "INSERT INTO masks VALUES ('宜蘭縣', 106900, '2024-05-12 08:21:21.187838')\n",
            "INSERT INTO masks VALUES ('南投縣', 91240, '2024-05-12 08:21:21.188356')\n",
            "INSERT INTO masks VALUES ('基隆市', 80100, '2024-05-12 08:21:21.188835')\n",
            "INSERT INTO masks VALUES ('', 69210, '2024-05-12 08:21:21.189328')\n",
            "INSERT INTO masks VALUES ('花蓮縣', 57330, '2024-05-12 08:21:21.189803')\n",
            "INSERT INTO masks VALUES ('新竹縣', 51350, '2024-05-12 08:21:21.190408')\n",
            "INSERT INTO masks VALUES ('新竹市', 45630, '2024-05-12 08:21:21.190915')\n",
            "INSERT INTO masks VALUES ('臺東縣', 28510, '2024-05-12 08:21:21.191397')\n",
            "INSERT INTO masks VALUES ('金門縣', 15510, '2024-05-12 08:21:21.191880')\n",
            "INSERT INTO masks VALUES ('澎湖縣', 12600, '2024-05-12 08:21:21.192368')\n",
            "INSERT INTO masks VALUES ('連江縣', 7930, '2024-05-12 08:21:21.192863')\n",
            "[('新北市', '670270', '2024-05-12 08:21:21.174901'), ('臺中市', '536710', '2024-05-12 08:21:21.182266'), ('高雄市', '424170', '2024-05-12 08:21:21.182832'), ('臺南市', '393900', '2024-05-12 08:21:21.183375'), ('桃園市', '331940', '2024-05-12 08:21:21.183889'), ('臺北市', '322490', '2024-05-12 08:21:21.184393'), ('彰化縣', '219400', '2024-05-12 08:21:21.184896'), ('雲林縣', '196990', '2024-05-12 08:21:21.185407'), ('屏東縣', '184250', '2024-05-12 08:21:21.185892'), ('苗栗縣', '131080', '2024-05-12 08:21:21.186381'), ('嘉義縣', '113180', '2024-05-12 08:21:21.186859'), ('嘉義市', '107840', '2024-05-12 08:21:21.187354'), ('宜蘭縣', '106900', '2024-05-12 08:21:21.187838'), ('南投縣', '91240', '2024-05-12 08:21:21.188356'), ('基隆市', '80100', '2024-05-12 08:21:21.188835'), ('', '69210', '2024-05-12 08:21:21.189328'), ('花蓮縣', '57330', '2024-05-12 08:21:21.189803'), ('新竹縣', '51350', '2024-05-12 08:21:21.190408'), ('新竹市', '45630', '2024-05-12 08:21:21.190915'), ('臺東縣', '28510', '2024-05-12 08:21:21.191397'), ('金門縣', '15510', '2024-05-12 08:21:21.191880'), ('澎湖縣', '12600', '2024-05-12 08:21:21.192368'), ('連江縣', '7930', '2024-05-12 08:21:21.192863')]\n"
          ]
        }
      ]
    }
  ]
}